{
 "cells": [
  {
   "cell_type": "code",
   "execution_count": 3,
   "metadata": {},
   "outputs": [],
   "source": [
    "import pandas as pd"
   ]
  },
  {
   "cell_type": "code",
   "execution_count": 2,
   "metadata": {},
   "outputs": [],
   "source": [
    "df = pd.read_csv('csv/stock_prices.csv')"
   ]
  },
  {
   "cell_type": "code",
   "execution_count": 4,
   "metadata": {},
   "outputs": [
    {
     "data": {
      "text/plain": [
       "ACB     17\n",
       "FIBK    17\n",
       "FCF     17\n",
       "CNO     17\n",
       "SHEN    17\n",
       "        ..\n",
       "NEWR     5\n",
       "TRHC     5\n",
       "PLM      4\n",
       "FREQ     3\n",
       "ESTE     3\n",
       "Name: Symbol, Length: 2447, dtype: int64"
      ]
     },
     "execution_count": 4,
     "metadata": {},
     "output_type": "execute_result"
    }
   ],
   "source": [
    "df['Symbol'].value_counts()"
   ]
  },
  {
   "cell_type": "code",
   "execution_count": 4,
   "metadata": {},
   "outputs": [
    {
     "name": "stdout",
     "output_type": "stream",
     "text": [
      "List of Symbols: ['FIT', 'HEXO', 'FB', 'ZNGA', 'TWTR', 'APHA', 'VSLR', 'WORK', 'ATVI', 'GLUU']\n"
     ]
    }
   ],
   "source": [
    "# Specify the path to your TXT file\n",
    "file_path = 'extra.txt'\n",
    "\n",
    "# Initialize an empty list to store symbols\n",
    "symbols = []\n",
    "\n",
    "# Open the file and read its content\n",
    "with open(file_path, 'r') as file:\n",
    "    # Read lines from the file\n",
    "    lines = file.readlines()\n",
    "\n",
    "    # Iterate through each line\n",
    "    for line in lines:\n",
    "        # Split each line at ':', and get the symbol before ':'\n",
    "        symbol = line.split(':')[0].strip()\n",
    "\n",
    "        # Append the symbol to the list if it's not empty\n",
    "        if symbol:\n",
    "            symbols.append(symbol)\n",
    "\n",
    "# Print the list of symbols\n",
    "print(\"List of Symbols:\", symbols[:10])"
   ]
  },
  {
   "cell_type": "markdown",
   "metadata": {},
   "source": [
    "###  Filter symbol csv"
   ]
  },
  {
   "cell_type": "code",
   "execution_count": 7,
   "metadata": {},
   "outputs": [
    {
     "name": "stdout",
     "output_type": "stream",
     "text": [
      "     symbol\n",
      "0       ACB\n",
      "1         F\n",
      "2        GE\n",
      "3      MSFT\n",
      "4      GPRO\n",
      "...     ...\n",
      "3130   AIRT\n",
      "3131    RBC\n",
      "3132   ROLL\n",
      "3133   ATRI\n",
      "3134   HHHH\n",
      "\n",
      "[3135 rows x 1 columns]\n",
      "Filtered DataFrame:\n",
      "     symbol\n",
      "0       ACB\n",
      "1         F\n",
      "2        GE\n",
      "3      MSFT\n",
      "4      GPRO\n",
      "...     ...\n",
      "3123      B\n",
      "3127    AIN\n",
      "3130   AIRT\n",
      "3131    RBC\n",
      "3133   ATRI\n",
      "\n",
      "[2447 rows x 1 columns]\n"
     ]
    }
   ],
   "source": [
    "sym_df = pd.read_csv('csv/stock_symbols.csv')\n",
    "print(sym_df)\n",
    "# Drop rows where the 'symbol' column is in the list\n",
    "df_filtered = sym_df[~sym_df['symbol'].isin(symbols)]\n",
    "\n",
    "# Print the modified DataFrame\n",
    "print(\"Filtered DataFrame:\")\n",
    "print(df_filtered) \n",
    "\n",
    "df_filtered.to_csv('csv/stock_symbols.csv', index=False)"
   ]
  },
  {
   "cell_type": "markdown",
   "metadata": {},
   "source": [
    "### Filter stock_info csv"
   ]
  },
  {
   "cell_type": "code",
   "execution_count": 8,
   "metadata": {},
   "outputs": [
    {
     "name": "stdout",
     "output_type": "stream",
     "text": [
      "                                                  name symbol   type  \\\n",
      "0                   Aurora Cannabis Inc. Common Shares    ACB  stock   \n",
      "1                                   Ford Motor Company      F  stock   \n",
      "2                             General Electric Company     GE  stock   \n",
      "3                   Microsoft Corporation Common Stock   MSFT  stock   \n",
      "4                     GoPro, Inc. Class A Common Stock   GPRO  stock   \n",
      "...                                                ...    ...    ...   \n",
      "3130                          Air T, Inc. Common Stock   AIRT  stock   \n",
      "3131                          Regal Beloit Corporation    RBC  stock   \n",
      "3132            RBC Bearings Incorporated Common Stock   ROLL  stock   \n",
      "3133                   Atrion Corporation Common Stock   ATRI  stock   \n",
      "3134  Wealthbridge Acquisition Limited Ordinary Shares   HHHH  stock   \n",
      "\n",
      "                                            description  \\\n",
      "0     Aurora Cannabis, Inc. engages in the productio...   \n",
      "1     Ford Motor Co. engages in the manufacture, dis...   \n",
      "2     General Electric Co. is a technology and finan...   \n",
      "3     Microsoft Corp. engages in the development and...   \n",
      "4     GoPro, Inc. engages in manufacturing and selli...   \n",
      "...                                                 ...   \n",
      "3130  Air T, Inc. is a holding company, which engage...   \n",
      "3131  Regal Beloit Corp. engages in the manufacture ...   \n",
      "3132  RBC Bearings, Inc. engages in the design, manu...   \n",
      "3133  Atrion Corp. engages in the manufacture and de...   \n",
      "3134  Wealthbridge Acquisition Ltd. is a blank check...   \n",
      "\n",
      "                             ceo headquarters_city  \\\n",
      "0                 Michael Singer          Edmonton   \n",
      "1               James P. Hackett          Dearborn   \n",
      "2     H. Lawrence Culp, Jr., MBA            Boston   \n",
      "3                  Satya Nadella           Redmond   \n",
      "4               Nicholas Woodman         San Mateo   \n",
      "...                          ...               ...   \n",
      "3130       Nicholas John Swenson            Denver   \n",
      "3131            Louis V. Pinkham            Beloit   \n",
      "3132         Michael J. Hartnett            Oxford   \n",
      "3133             David A. Battat             Allen   \n",
      "3134               Liu Yongsheng         Hong Kong   \n",
      "\n",
      "                              industry  \n",
      "0     Agricultural Commodities/Milling  \n",
      "1                       Motor Vehicles  \n",
      "2                Aerospace And Defense  \n",
      "3                    Packaged Software  \n",
      "4               Electronics/Appliances  \n",
      "...                                ...  \n",
      "3130              Air Freight/Couriers  \n",
      "3131              Industrial Machinery  \n",
      "3132                 Metal Fabrication  \n",
      "3133               Medical Specialties  \n",
      "3134           Financial Conglomerates  \n",
      "\n",
      "[3135 rows x 7 columns]\n",
      "Filtered DataFrame:\n",
      "                                    name symbol   type  \\\n",
      "0     Aurora Cannabis Inc. Common Shares    ACB  stock   \n",
      "1                     Ford Motor Company      F  stock   \n",
      "2               General Electric Company     GE  stock   \n",
      "3     Microsoft Corporation Common Stock   MSFT  stock   \n",
      "4       GoPro, Inc. Class A Common Stock   GPRO  stock   \n",
      "...                                  ...    ...    ...   \n",
      "3123                   Barnes Group Inc.      B  stock   \n",
      "3127   Albany International Corp Class A    AIN  stock   \n",
      "3130            Air T, Inc. Common Stock   AIRT  stock   \n",
      "3131            Regal Beloit Corporation    RBC  stock   \n",
      "3133     Atrion Corporation Common Stock   ATRI  stock   \n",
      "\n",
      "                                            description  \\\n",
      "0     Aurora Cannabis, Inc. engages in the productio...   \n",
      "1     Ford Motor Co. engages in the manufacture, dis...   \n",
      "2     General Electric Co. is a technology and finan...   \n",
      "3     Microsoft Corp. engages in the development and...   \n",
      "4     GoPro, Inc. engages in manufacturing and selli...   \n",
      "...                                                 ...   \n",
      "3123  Barnes Group, Inc. engages in the provision of...   \n",
      "3127  Albany International Corp. engages in textiles...   \n",
      "3130  Air T, Inc. is a holding company, which engage...   \n",
      "3131  Regal Beloit Corp. engages in the manufacture ...   \n",
      "3133  Atrion Corp. engages in the manufacture and de...   \n",
      "\n",
      "                             ceo headquarters_city  \\\n",
      "0                 Michael Singer          Edmonton   \n",
      "1               James P. Hackett          Dearborn   \n",
      "2     H. Lawrence Culp, Jr., MBA            Boston   \n",
      "3                  Satya Nadella           Redmond   \n",
      "4               Nicholas Woodman         San Mateo   \n",
      "...                          ...               ...   \n",
      "3123          Patrick J. Dempsey           Bristol   \n",
      "3127      Andrew William Higgins         Rochester   \n",
      "3130       Nicholas John Swenson            Denver   \n",
      "3131            Louis V. Pinkham            Beloit   \n",
      "3133             David A. Battat             Allen   \n",
      "\n",
      "                              industry  \n",
      "0     Agricultural Commodities/Milling  \n",
      "1                       Motor Vehicles  \n",
      "2                Aerospace And Defense  \n",
      "3                    Packaged Software  \n",
      "4               Electronics/Appliances  \n",
      "...                                ...  \n",
      "3123              Industrial Machinery  \n",
      "3127                          Textiles  \n",
      "3130              Air Freight/Couriers  \n",
      "3131              Industrial Machinery  \n",
      "3133               Medical Specialties  \n",
      "\n",
      "[2447 rows x 7 columns]\n"
     ]
    }
   ],
   "source": [
    "info_df = pd.read_csv('csv/stock_info.csv')\n",
    "print(info_df)\n",
    "# Drop rows where the 'symbol' column is in the list\n",
    "df_filtered = info_df[~info_df['symbol'].isin(symbols)]\n",
    "\n",
    "# Print the modified DataFrame\n",
    "print(\"Filtered DataFrame:\")\n",
    "print(df_filtered) \n",
    "\n",
    "df_filtered.to_csv('csv/stock_info.csv', index=False)"
   ]
  },
  {
   "cell_type": "markdown",
   "metadata": {},
   "source": [
    "## Transform"
   ]
  },
  {
   "cell_type": "code",
   "execution_count": 12,
   "metadata": {},
   "outputs": [
    {
     "name": "stdout",
     "output_type": "stream",
     "text": [
      "79901\n"
     ]
    },
    {
     "data": {
      "text/html": [
       "<div>\n",
       "<style scoped>\n",
       "    .dataframe tbody tr th:only-of-type {\n",
       "        vertical-align: middle;\n",
       "    }\n",
       "\n",
       "    .dataframe tbody tr th {\n",
       "        vertical-align: top;\n",
       "    }\n",
       "\n",
       "    .dataframe thead th {\n",
       "        text-align: right;\n",
       "    }\n",
       "</style>\n",
       "<table border=\"1\" class=\"dataframe\">\n",
       "  <thead>\n",
       "    <tr style=\"text-align: right;\">\n",
       "      <th></th>\n",
       "      <th>date</th>\n",
       "      <th>Symbol</th>\n",
       "      <th>Open</th>\n",
       "      <th>High</th>\n",
       "      <th>Low</th>\n",
       "      <th>Close</th>\n",
       "      <th>Volume</th>\n",
       "      <th>Dividends</th>\n",
       "      <th>Stock Splits</th>\n",
       "      <th>Capital Gains</th>\n",
       "    </tr>\n",
       "  </thead>\n",
       "  <tbody>\n",
       "    <tr>\n",
       "      <th>0</th>\n",
       "      <td>2023-10-02 00:00:00-04:00</td>\n",
       "      <td>ACB</td>\n",
       "      <td>0.584</td>\n",
       "      <td>0.584</td>\n",
       "      <td>0.553</td>\n",
       "      <td>0.560</td>\n",
       "      <td>12773300</td>\n",
       "      <td>0.0</td>\n",
       "      <td>0.0</td>\n",
       "      <td>NaN</td>\n",
       "    </tr>\n",
       "    <tr>\n",
       "      <th>1</th>\n",
       "      <td>2023-10-03 00:00:00-04:00</td>\n",
       "      <td>ACB</td>\n",
       "      <td>0.555</td>\n",
       "      <td>0.557</td>\n",
       "      <td>0.521</td>\n",
       "      <td>0.537</td>\n",
       "      <td>8659400</td>\n",
       "      <td>0.0</td>\n",
       "      <td>0.0</td>\n",
       "      <td>NaN</td>\n",
       "    </tr>\n",
       "    <tr>\n",
       "      <th>2</th>\n",
       "      <td>2023-10-04 00:00:00-04:00</td>\n",
       "      <td>ACB</td>\n",
       "      <td>0.560</td>\n",
       "      <td>0.576</td>\n",
       "      <td>0.535</td>\n",
       "      <td>0.553</td>\n",
       "      <td>9605000</td>\n",
       "      <td>0.0</td>\n",
       "      <td>0.0</td>\n",
       "      <td>NaN</td>\n",
       "    </tr>\n",
       "    <tr>\n",
       "      <th>3</th>\n",
       "      <td>2023-10-05 00:00:00-04:00</td>\n",
       "      <td>ACB</td>\n",
       "      <td>0.556</td>\n",
       "      <td>0.580</td>\n",
       "      <td>0.553</td>\n",
       "      <td>0.567</td>\n",
       "      <td>6164100</td>\n",
       "      <td>0.0</td>\n",
       "      <td>0.0</td>\n",
       "      <td>NaN</td>\n",
       "    </tr>\n",
       "    <tr>\n",
       "      <th>4</th>\n",
       "      <td>2023-10-06 00:00:00-04:00</td>\n",
       "      <td>ACB</td>\n",
       "      <td>0.552</td>\n",
       "      <td>0.578</td>\n",
       "      <td>0.542</td>\n",
       "      <td>0.567</td>\n",
       "      <td>4979100</td>\n",
       "      <td>0.0</td>\n",
       "      <td>0.0</td>\n",
       "      <td>NaN</td>\n",
       "    </tr>\n",
       "  </tbody>\n",
       "</table>\n",
       "</div>"
      ],
      "text/plain": [
       "                        date Symbol   Open   High    Low  Close    Volume  \\\n",
       "0  2023-10-02 00:00:00-04:00    ACB  0.584  0.584  0.553  0.560  12773300   \n",
       "1  2023-10-03 00:00:00-04:00    ACB  0.555  0.557  0.521  0.537   8659400   \n",
       "2  2023-10-04 00:00:00-04:00    ACB  0.560  0.576  0.535  0.553   9605000   \n",
       "3  2023-10-05 00:00:00-04:00    ACB  0.556  0.580  0.553  0.567   6164100   \n",
       "4  2023-10-06 00:00:00-04:00    ACB  0.552  0.578  0.542  0.567   4979100   \n",
       "\n",
       "   Dividends  Stock Splits  Capital Gains  \n",
       "0        0.0           0.0            NaN  \n",
       "1        0.0           0.0            NaN  \n",
       "2        0.0           0.0            NaN  \n",
       "3        0.0           0.0            NaN  \n",
       "4        0.0           0.0            NaN  "
      ]
     },
     "execution_count": 12,
     "metadata": {},
     "output_type": "execute_result"
    }
   ],
   "source": [
    "import pandas as pd\n",
    "\n",
    "# Read the CSV file into a DataFrame\n",
    "stock_df = pd.read_csv('csv/stock_prices.csv')\n",
    "print(len(stock_df))\n",
    "stock_df.head()"
   ]
  },
  {
   "cell_type": "code",
   "execution_count": 41,
   "metadata": {},
   "outputs": [],
   "source": [
    "#select attributes\n",
    "clean_df = stock_df[['date', 'Symbol', 'Open','High','Low','Close','Volume','Dividends']]"
   ]
  },
  {
   "cell_type": "code",
   "execution_count": 42,
   "metadata": {},
   "outputs": [
    {
     "name": "stderr",
     "output_type": "stream",
     "text": [
      "C:\\Users\\anton\\AppData\\Local\\Temp\\ipykernel_35496\\1401035101.py:2: SettingWithCopyWarning: \n",
      "A value is trying to be set on a copy of a slice from a DataFrame.\n",
      "Try using .loc[row_indexer,col_indexer] = value instead\n",
      "\n",
      "See the caveats in the documentation: https://pandas.pydata.org/pandas-docs/stable/user_guide/indexing.html#returning-a-view-versus-a-copy\n",
      "  clean_df['date'] = pd.to_datetime(clean_df['date'], utc=True)\n"
     ]
    },
    {
     "data": {
      "text/plain": [
       "date         datetime64[ns, UTC]\n",
       "Symbol                    object\n",
       "Open                     float64\n",
       "High                     float64\n",
       "Low                      float64\n",
       "Close                    float64\n",
       "Volume                     int64\n",
       "Dividends                float64\n",
       "dtype: object"
      ]
     },
     "execution_count": 42,
     "metadata": {},
     "output_type": "execute_result"
    }
   ],
   "source": [
    "# Convert the 'Date' column to a datetime object\n",
    "clean_df['date'] = pd.to_datetime(clean_df['date'], utc=True)\n",
    "clean_df.dtypes"
   ]
  },
  {
   "cell_type": "markdown",
   "metadata": {},
   "source": [
    "### make gap attribute"
   ]
  },
  {
   "cell_type": "code",
   "execution_count": 50,
   "metadata": {},
   "outputs": [
    {
     "name": "stderr",
     "output_type": "stream",
     "text": [
      "C:\\Users\\anton\\AppData\\Local\\Temp\\ipykernel_35496\\1912334985.py:4: SettingWithCopyWarning: \n",
      "A value is trying to be set on a copy of a slice from a DataFrame.\n",
      "Try using .loc[row_indexer,col_indexer] = value instead\n",
      "\n",
      "See the caveats in the documentation: https://pandas.pydata.org/pandas-docs/stable/user_guide/indexing.html#returning-a-view-versus-a-copy\n",
      "  clean_df['gap'] = None\n"
     ]
    },
    {
     "ename": "KeyError",
     "evalue": "'gap'",
     "output_type": "error",
     "traceback": [
      "\u001b[1;31m---------------------------------------------------------------------------\u001b[0m",
      "\u001b[1;31mKeyError\u001b[0m                                  Traceback (most recent call last)",
      "File \u001b[1;32mc:\\Python310\\lib\\site-packages\\pandas\\core\\indexes\\base.py:3803\u001b[0m, in \u001b[0;36mIndex.get_loc\u001b[1;34m(self, key, method, tolerance)\u001b[0m\n\u001b[0;32m   3802\u001b[0m \u001b[39mtry\u001b[39;00m:\n\u001b[1;32m-> 3803\u001b[0m     \u001b[39mreturn\u001b[39;00m \u001b[39mself\u001b[39;49m\u001b[39m.\u001b[39;49m_engine\u001b[39m.\u001b[39;49mget_loc(casted_key)\n\u001b[0;32m   3804\u001b[0m \u001b[39mexcept\u001b[39;00m \u001b[39mKeyError\u001b[39;00m \u001b[39mas\u001b[39;00m err:\n",
      "File \u001b[1;32mc:\\Python310\\lib\\site-packages\\pandas\\_libs\\index.pyx:138\u001b[0m, in \u001b[0;36mpandas._libs.index.IndexEngine.get_loc\u001b[1;34m()\u001b[0m\n",
      "File \u001b[1;32mc:\\Python310\\lib\\site-packages\\pandas\\_libs\\index.pyx:165\u001b[0m, in \u001b[0;36mpandas._libs.index.IndexEngine.get_loc\u001b[1;34m()\u001b[0m\n",
      "File \u001b[1;32mpandas\\_libs\\hashtable_class_helper.pxi:5745\u001b[0m, in \u001b[0;36mpandas._libs.hashtable.PyObjectHashTable.get_item\u001b[1;34m()\u001b[0m\n",
      "File \u001b[1;32mpandas\\_libs\\hashtable_class_helper.pxi:5753\u001b[0m, in \u001b[0;36mpandas._libs.hashtable.PyObjectHashTable.get_item\u001b[1;34m()\u001b[0m\n",
      "\u001b[1;31mKeyError\u001b[0m: 'gap'",
      "\nThe above exception was the direct cause of the following exception:\n",
      "\u001b[1;31mKeyError\u001b[0m                                  Traceback (most recent call last)",
      "\u001b[1;32mc:\\Users\\anton\\things\\kuliah\\sem 5\\DatEng\\stockprice-manual\\monitor.ipynb Cell 14\u001b[0m line \u001b[0;36m8\n\u001b[0;32m      <a href='vscode-notebook-cell:/c%3A/Users/anton/things/kuliah/sem%205/DatEng/stockprice-manual/monitor.ipynb#X16sZmlsZQ%3D%3D?line=4'>5</a>\u001b[0m grouped_data \u001b[39m=\u001b[39m clean_df\u001b[39m.\u001b[39mgroupby(\u001b[39m'\u001b[39m\u001b[39mSymbol\u001b[39m\u001b[39m'\u001b[39m)\n\u001b[0;32m      <a href='vscode-notebook-cell:/c%3A/Users/anton/things/kuliah/sem%205/DatEng/stockprice-manual/monitor.ipynb#X16sZmlsZQ%3D%3D?line=6'>7</a>\u001b[0m grouped_data \u001b[39m=\u001b[39m grouped_data\u001b[39m.\u001b[39mapply(\u001b[39mlambda\u001b[39;00m x: gap_percentage(x[\u001b[39m'\u001b[39m\u001b[39mOpen\u001b[39m\u001b[39m'\u001b[39m], x[\u001b[39m'\u001b[39m\u001b[39mClose\u001b[39m\u001b[39m'\u001b[39m]\u001b[39m.\u001b[39mshift(\u001b[39m1\u001b[39m)))\u001b[39m.\u001b[39mreset_index()\n\u001b[1;32m----> <a href='vscode-notebook-cell:/c%3A/Users/anton/things/kuliah/sem%205/DatEng/stockprice-manual/monitor.ipynb#X16sZmlsZQ%3D%3D?line=7'>8</a>\u001b[0m gap_data \u001b[39m=\u001b[39m grouped_data[(grouped_data[\u001b[39m'\u001b[39;49m\u001b[39mgap\u001b[39;49m\u001b[39m'\u001b[39;49m] \u001b[39m>\u001b[39m gap_threshold) \u001b[39m|\u001b[39m (grouped_data[\u001b[39m'\u001b[39m\u001b[39mgap\u001b[39m\u001b[39m'\u001b[39m] \u001b[39m<\u001b[39m \u001b[39m-\u001b[39mgap_threshold)]\n\u001b[0;32m      <a href='vscode-notebook-cell:/c%3A/Users/anton/things/kuliah/sem%205/DatEng/stockprice-manual/monitor.ipynb#X16sZmlsZQ%3D%3D?line=8'>9</a>\u001b[0m gap_data \u001b[39m=\u001b[39m gap_data\u001b[39m.\u001b[39mreset_index()\n\u001b[0;32m     <a href='vscode-notebook-cell:/c%3A/Users/anton/things/kuliah/sem%205/DatEng/stockprice-manual/monitor.ipynb#X16sZmlsZQ%3D%3D?line=9'>10</a>\u001b[0m gap_data \u001b[39m=\u001b[39m pd\u001b[39m.\u001b[39mmerge(gap_data, clean_df, on\u001b[39m=\u001b[39m[\u001b[39m'\u001b[39m\u001b[39mSymbol\u001b[39m\u001b[39m'\u001b[39m, \u001b[39m'\u001b[39m\u001b[39mdate\u001b[39m\u001b[39m'\u001b[39m])\n",
      "File \u001b[1;32mc:\\Python310\\lib\\site-packages\\pandas\\core\\frame.py:3805\u001b[0m, in \u001b[0;36mDataFrame.__getitem__\u001b[1;34m(self, key)\u001b[0m\n\u001b[0;32m   3803\u001b[0m \u001b[39mif\u001b[39;00m \u001b[39mself\u001b[39m\u001b[39m.\u001b[39mcolumns\u001b[39m.\u001b[39mnlevels \u001b[39m>\u001b[39m \u001b[39m1\u001b[39m:\n\u001b[0;32m   3804\u001b[0m     \u001b[39mreturn\u001b[39;00m \u001b[39mself\u001b[39m\u001b[39m.\u001b[39m_getitem_multilevel(key)\n\u001b[1;32m-> 3805\u001b[0m indexer \u001b[39m=\u001b[39m \u001b[39mself\u001b[39;49m\u001b[39m.\u001b[39;49mcolumns\u001b[39m.\u001b[39;49mget_loc(key)\n\u001b[0;32m   3806\u001b[0m \u001b[39mif\u001b[39;00m is_integer(indexer):\n\u001b[0;32m   3807\u001b[0m     indexer \u001b[39m=\u001b[39m [indexer]\n",
      "File \u001b[1;32mc:\\Python310\\lib\\site-packages\\pandas\\core\\indexes\\base.py:3805\u001b[0m, in \u001b[0;36mIndex.get_loc\u001b[1;34m(self, key, method, tolerance)\u001b[0m\n\u001b[0;32m   3803\u001b[0m     \u001b[39mreturn\u001b[39;00m \u001b[39mself\u001b[39m\u001b[39m.\u001b[39m_engine\u001b[39m.\u001b[39mget_loc(casted_key)\n\u001b[0;32m   3804\u001b[0m \u001b[39mexcept\u001b[39;00m \u001b[39mKeyError\u001b[39;00m \u001b[39mas\u001b[39;00m err:\n\u001b[1;32m-> 3805\u001b[0m     \u001b[39mraise\u001b[39;00m \u001b[39mKeyError\u001b[39;00m(key) \u001b[39mfrom\u001b[39;00m \u001b[39merr\u001b[39;00m\n\u001b[0;32m   3806\u001b[0m \u001b[39mexcept\u001b[39;00m \u001b[39mTypeError\u001b[39;00m:\n\u001b[0;32m   3807\u001b[0m     \u001b[39m# If we have a listlike key, _check_indexing_error will raise\u001b[39;00m\n\u001b[0;32m   3808\u001b[0m     \u001b[39m#  InvalidIndexError. Otherwise we fall through and re-raise\u001b[39;00m\n\u001b[0;32m   3809\u001b[0m     \u001b[39m#  the TypeError.\u001b[39;00m\n\u001b[0;32m   3810\u001b[0m     \u001b[39mself\u001b[39m\u001b[39m.\u001b[39m_check_indexing_error(key)\n",
      "\u001b[1;31mKeyError\u001b[0m: 'gap'"
     ]
    }
   ],
   "source": [
    "def gap_percentage(open_price, prev_close): return (open_price - prev_close) / prev_close * 100\n",
    "gap_threshold = 5\n",
    "\n",
    "grouped_data = clean_df.groupby('Symbol')\n",
    "grouped_data = grouped_data.apply(lambda x: gap_percentage(x['Open'], x['Close'].shift(1))).reset_index()\n",
    "gap_data = grouped_data[(grouped_data['gap'] > gap_threshold) | (grouped_data['gap'] < -gap_threshold)]\n",
    "gap_data = gap_data.reset_index()\n",
    "gap_data = pd.merge(gap_data, clean_df, on=['Symbol', 'date'])\n",
    "gap_data\n"
   ]
  }
 ],
 "metadata": {
  "kernelspec": {
   "display_name": "Python 3",
   "language": "python",
   "name": "python3"
  },
  "language_info": {
   "codemirror_mode": {
    "name": "ipython",
    "version": 3
   },
   "file_extension": ".py",
   "mimetype": "text/x-python",
   "name": "python",
   "nbconvert_exporter": "python",
   "pygments_lexer": "ipython3",
   "version": "3.10.5"
  }
 },
 "nbformat": 4,
 "nbformat_minor": 2
}
